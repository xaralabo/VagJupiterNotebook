{
 "cells": [
  {
   "cell_type": "markdown",
   "id": "ab91450e-34cb-420c-bae8-4097700e7d4a",
   "metadata": {
    "tags": []
   },
   "source": [
    "# Data Science Tools and Ecosystem\n",
    "\n",
    "In this notebook, Data Science Tools and Ecosystem are summarized."
   ]
  },
  {
   "cell_type": "markdown",
   "id": "b4ca5ae5-74b0-4d9c-a08e-cbad7bb2b472",
   "metadata": {},
   "source": [
    "**Objectives:**\n",
    "- Popular Languages\n",
    "- Popular Libraries\n",
    "- Data Science Tools\n",
    "- Arithmetic Expressions\n"
   ]
  },
  {
   "cell_type": "markdown",
   "id": "07029ebd-2b28-4982-bc2e-c4c3f445dabf",
   "metadata": {
    "tags": []
   },
   "source": [
    "Some of the popular languages that Data Scientists use are:\n",
    "1. Python\n",
    "2. R\n",
    "3. Julia"
   ]
  },
  {
   "cell_type": "markdown",
   "id": "5c8b006f-a5e3-4812-81fc-3d06481bd3a6",
   "metadata": {},
   "source": [
    "Some of the commonly used libraries used by Data Scientists include:\n",
    "1. Pandas\n",
    "2. Matplotlib\n",
    "3. NumPy"
   ]
  },
  {
   "cell_type": "markdown",
   "id": "0d183958-6b4f-4879-87cd-22479430cc3e",
   "metadata": {
    "tags": []
   },
   "source": [
    "| Data Science Tools   |\n",
    "|---------|\n",
    "| Jupyter Notebook |\n",
    "| RStudio   |\n",
    "| Visual Studio Code   |\n"
   ]
  },
  {
   "cell_type": "markdown",
   "id": "d0252606-0e55-4238-9538-fc86c59d35a5",
   "metadata": {
    "tags": []
   },
   "source": [
    "### Below are a few examples of evaluating arithmetic expressions in Python"
   ]
  },
  {
   "cell_type": "code",
   "execution_count": 3,
   "id": "0d54fcc8-2933-4278-8412-e2346c51c337",
   "metadata": {
    "tags": []
   },
   "outputs": [
    {
     "name": "stdout",
     "output_type": "stream",
     "text": [
      "17\n"
     ]
    }
   ],
   "source": [
    "# This a simple arithmetic expression to mutiply then add integers\n",
    "result = (3*4) + 5\n",
    "print(result)"
   ]
  },
  {
   "cell_type": "code",
   "execution_count": 4,
   "id": "87bae858-8a09-4367-9723-b93e9a73d45b",
   "metadata": {
    "tags": []
   },
   "outputs": [
    {
     "name": "stdout",
     "output_type": "stream",
     "text": [
      "3.3333333333333335\n"
     ]
    }
   ],
   "source": [
    "#  This will convert 200 minutes to hours by diving by 60\n",
    "hours = 200 / 60\n",
    "print(hours)\n"
   ]
  },
  {
   "cell_type": "markdown",
   "id": "ff46c6c8-3b2e-4c87-860a-8c608c5e6d76",
   "metadata": {
    "tags": []
   },
   "source": [
    "## Author\n",
    "Vangelis Charalampopoulos\n"
   ]
  },
  {
   "cell_type": "code",
   "execution_count": null,
   "id": "44e6ae11-2070-49b7-b349-a9d11ff52c79",
   "metadata": {},
   "outputs": [],
   "source": []
  }
 ],
 "metadata": {
  "kernelspec": {
   "display_name": "Python",
   "language": "python",
   "name": "conda-env-python-py"
  },
  "language_info": {
   "codemirror_mode": {
    "name": "ipython",
    "version": 3
   },
   "file_extension": ".py",
   "mimetype": "text/x-python",
   "name": "python",
   "nbconvert_exporter": "python",
   "pygments_lexer": "ipython3",
   "version": "3.7.12"
  }
 },
 "nbformat": 4,
 "nbformat_minor": 5
}
